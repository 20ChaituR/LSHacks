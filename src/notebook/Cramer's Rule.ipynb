{
 "cells": [
  {
   "cell_type": "code",
   "execution_count": 3,
   "metadata": {
    "collapsed": false
   },
   "outputs": [
    {
     "name": "stdout",
     "output_type": "stream",
     "text": [
      "[1, -2, 3]\n"
     ]
    }
   ],
   "source": [
    "def det(m,n):\n",
    "    if n==1: return m[0][0]\n",
    "    z=0\n",
    "    for r in range(n):\n",
    "        k=m[:]\n",
    "        del k[r]\n",
    "        z+=m[r][0]*(-1)**r*det([p[1:]for p in k],n-1)\n",
    "    return z\n",
    "\n",
    "h = [[2, 1, 1],[1, -1, -1],[1, 2, 1]]\n",
    "l = [3, 0, 0]\n",
    "\n",
    "w=len(l)\n",
    "d=det(h,w)\n",
    "if d==0:r=[]\n",
    "else:r=[det([r[0:i]+[s]+r[i+1:]for r,s in zip(h,l)],w)/d for i in range(w)]\n",
    "print(r)"
   ]
  },
  {
   "cell_type": "code",
   "execution_count": null,
   "metadata": {
    "collapsed": true
   },
   "outputs": [],
   "source": []
  }
 ],
 "metadata": {
  "kernelspec": {
   "display_name": "Python [default]",
   "language": "python",
   "name": "python2"
  },
  "language_info": {
   "codemirror_mode": {
    "name": "ipython",
    "version": 2
   },
   "file_extension": ".py",
   "mimetype": "text/x-python",
   "name": "python",
   "nbconvert_exporter": "python",
   "pygments_lexer": "ipython2",
   "version": "2.7.13"
  }
 },
 "nbformat": 4,
 "nbformat_minor": 2
}
