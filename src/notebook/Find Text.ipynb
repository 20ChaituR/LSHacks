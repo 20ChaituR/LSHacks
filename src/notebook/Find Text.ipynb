{
 "cells": [
  {
   "cell_type": "code",
   "execution_count": 2,
   "metadata": {
    "collapsed": true
   },
   "outputs": [],
   "source": [
    "import tensorflow as tf\n",
    "import matplotlib.pyplot as plt\n",
    "import cv2\n",
    "import numpy as np\n",
    "\n",
    "%matplotlib inline"
   ]
  },
  {
   "cell_type": "code",
   "execution_count": 3,
   "metadata": {
    "collapsed": false
   },
   "outputs": [
    {
     "data": {
      "text/plain": [
       "True"
      ]
     },
     "execution_count": 3,
     "metadata": {},
     "output_type": "execute_result"
    }
   ],
   "source": [
    "img = cv2.imread('/Users/cravuri/Desktop/IMG_3286.JPG')\n",
    "mser = cv2.MSER_create()\n",
    "\n",
    "gray = cv2.cvtColor(img, cv2.COLOR_BGR2GRAY)\n",
    "vis = img.copy()\n",
    "\n",
    "regions = mser.detectRegions(gray, None)\n",
    "hulls = [cv2.convexHull(p.reshape(-1, 1, 2)) for p in regions]\n",
    "cv2.polylines(vis, hulls, 1, (0, 255, 0)) \n",
    "cv2.putText(vis, str('change'), (20, 20), cv2.FONT_HERSHEY_SIMPLEX, 2, (255, 0, 0))\n",
    "cv2.fillPoly(vis, hulls, (0, 255, 0))\n",
    "\n",
    "\n",
    "cv2.imwrite(\"test.png\", vis)    \n",
    "# cv2.imshow('img', vis)\n",
    "# cv2.waitKey(0)\n",
    "# cv2.destroyAllWindows()"
   ]
  },
  {
   "cell_type": "code",
   "execution_count": 6,
   "metadata": {
    "collapsed": true
   },
   "outputs": [],
   "source": [
    "import sys\n",
    "from PIL import Image, ImageDraw\n",
    "\n",
    "class Region():\n",
    "    def __init__(self, x, y):\n",
    "        self._pixels = [(x, y)]\n",
    "        self._min_x = x\n",
    "        self._max_x = x\n",
    "        self._min_y = y\n",
    "        self._max_y = y\n",
    "\n",
    "    def add(self, x, y):\n",
    "        self._pixels.append((x, y))\n",
    "        self._min_x = min(self._min_x, x)\n",
    "        self._max_x = max(self._max_x, x)\n",
    "        self._min_y = min(self._min_y, y)\n",
    "        self._max_y = max(self._max_y, y)\n",
    "\n",
    "    def box(self):\n",
    "        return [(self._min_x, self._min_y), (self._max_x, self._max_y)]\n",
    "\n",
    "def find_regions(im):\n",
    "    width, height  = im.size\n",
    "    regions = {}\n",
    "    pixel_region = [[0 for y in range(height)] for x in range(width)]\n",
    "    equivalences = {}\n",
    "    n_regions = 0\n",
    "    #first pass. find regions.\n",
    "    for x in xrange(width):\n",
    "        for y in xrange(height):\n",
    "            #look for a black pixel\n",
    "            if im.getpixel((x, y)) == (0, 0, 0, 255): #BLACK\n",
    "                # get the region number from north or west\n",
    "                # or create new region\n",
    "                region_n = pixel_region[x-1][y] if x > 0 else 0\n",
    "                region_w = pixel_region[x][y-1] if y > 0 else 0\n",
    "\n",
    "                max_region = max(region_n, region_w)\n",
    "\n",
    "                if max_region > 0:\n",
    "                    #a neighbour already has a region\n",
    "                    #new region is the smallest > 0\n",
    "                    new_region = min(filter(lambda i: i > 0, (region_n, region_w)))\n",
    "                    #update equivalences\n",
    "                    if max_region > new_region:\n",
    "                        if max_region in equivalences:\n",
    "                            equivalences[max_region].add(new_region)\n",
    "                        else:\n",
    "                            equivalences[max_region] = set((new_region, ))\n",
    "                else:\n",
    "                    n_regions += 1\n",
    "                    new_region = n_regions\n",
    "\n",
    "                pixel_region[x][y] = new_region\n",
    "\n",
    "    #Scan image again, assigning all equivalent regions the same region value.\n",
    "    for x in xrange(width):\n",
    "        for y in xrange(height):\n",
    "                r = pixel_region[x][y]\n",
    "                if r > 0:\n",
    "                    while r in equivalences:\n",
    "                        r = min(equivalences[r])\n",
    "\n",
    "                    if not r in regions:\n",
    "                        regions[r] = Region(x, y)\n",
    "                    else:\n",
    "                        regions[r].add(x, y)\n",
    "\n",
    "    return list(regions.itervalues())\n",
    "\n",
    "def main():\n",
    "    im = Image.open(\"/Users/cravuri/Desktop/IMG_3286.JPG\")\n",
    "    regions = find_regions(im)\n",
    "    draw = ImageDraw.Draw(im)\n",
    "    for r in regions:\n",
    "        draw.rectangle(r.box(), outline=(255, 0, 0))\n",
    "    del draw \n",
    "    #im.show()\n",
    "    output = file(\"output.png\", \"wb\")\n",
    "    im.save(output)\n",
    "    output.close()"
   ]
  },
  {
   "cell_type": "code",
   "execution_count": 7,
   "metadata": {
    "collapsed": false
   },
   "outputs": [],
   "source": [
    "main()"
   ]
  },
  {
   "cell_type": "code",
   "execution_count": null,
   "metadata": {
    "collapsed": true
   },
   "outputs": [],
   "source": []
  }
 ],
 "metadata": {
  "kernelspec": {
   "display_name": "Python [default]",
   "language": "python",
   "name": "python2"
  },
  "language_info": {
   "codemirror_mode": {
    "name": "ipython",
    "version": 2
   },
   "file_extension": ".py",
   "mimetype": "text/x-python",
   "name": "python",
   "nbconvert_exporter": "python",
   "pygments_lexer": "ipython2",
   "version": "2.7.13"
  }
 },
 "nbformat": 4,
 "nbformat_minor": 2
}
